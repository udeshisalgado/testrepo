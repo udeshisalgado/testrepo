{
 "cells": [
  {
   "cell_type": "markdown",
   "id": "048cae72-7ac4-4f98-97ca-df8fa9e449a3",
   "metadata": {},
   "source": [
    "My Title"
   ]
  },
  {
   "cell_type": "code",
   "execution_count": 8,
   "id": "9614e56e-bce3-4507-9a62-64061f3a93d7",
   "metadata": {},
   "outputs": [
    {
     "data": {
      "text/plain": [
       "2"
      ]
     },
     "execution_count": 8,
     "metadata": {},
     "output_type": "execute_result"
    }
   ],
   "source": [
    "1+1"
   ]
  },
  {
   "cell_type": "markdown",
   "id": "902e61c7-44a5-49a7-a9c6-c747654abc23",
   "metadata": {},
   "source": [
    "8*3+7"
   ]
  },
  {
   "cell_type": "code",
   "execution_count": 9,
   "id": "e6884ebc-82ea-4917-9e7c-d18b46316dd4",
   "metadata": {},
   "outputs": [
    {
     "data": {
      "text/plain": [
       "21"
      ]
     },
     "execution_count": 9,
     "metadata": {},
     "output_type": "execute_result"
    }
   ],
   "source": [
    "14+7"
   ]
  },
  {
   "cell_type": "code",
   "execution_count": null,
   "id": "fb2e0012-ee9b-4f5d-99ae-439e00df060a",
   "metadata": {},
   "outputs": [],
   "source": []
  },
  {
   "cell_type": "code",
   "execution_count": null,
   "id": "fc01c1ce-34c8-4426-8cb6-3bbc4607ad85",
   "metadata": {},
   "outputs": [],
   "source": []
  }
 ],
 "metadata": {
  "kernelspec": {
   "display_name": "Python",
   "language": "python",
   "name": "conda-env-python-py"
  },
  "language_info": {
   "codemirror_mode": {
    "name": "ipython",
    "version": 3
   },
   "file_extension": ".py",
   "mimetype": "text/x-python",
   "name": "python",
   "nbconvert_exporter": "python",
   "pygments_lexer": "ipython3",
   "version": "3.6.13"
  }
 },
 "nbformat": 4,
 "nbformat_minor": 5
}
